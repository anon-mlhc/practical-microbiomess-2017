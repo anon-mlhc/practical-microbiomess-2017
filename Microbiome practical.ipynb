{
 "cells": [
  {
   "cell_type": "markdown",
   "metadata": {
    "deletable": true,
    "editable": true
   },
   "source": [
    "# Phenotype generation\n",
    "\n",
    "Genotype data comes from the [PLINK tutorial](http://zzz.bwh.harvard.edu/plink/tutorial.shtml) and can be downloaded from http://zzz.bwh.harvard.edu/plink/hapmap1.zip \n",
    "\n",
    "Create the folder `data` and unzip `hapmap1.zip` in it."
   ]
  },
  {
   "cell_type": "code",
   "execution_count": 1,
   "metadata": {
    "collapsed": false,
    "deletable": true,
    "editable": true
   },
   "outputs": [
    {
     "name": "stdout",
     "output_type": "stream",
     "text": [
      "Populating the interactive namespace from numpy and matplotlib\n"
     ]
    }
   ],
   "source": [
    "%pylab inline"
   ]
  },
  {
   "cell_type": "code",
   "execution_count": 3,
   "metadata": {
    "collapsed": true,
    "deletable": true,
    "editable": true
   },
   "outputs": [],
   "source": [
    "ped = np.loadtxt(\"data/hapmap1.ped\", usecols=xrange(6, 167074), dtype=int)"
   ]
  },
  {
   "cell_type": "code",
   "execution_count": 55,
   "metadata": {
    "collapsed": false,
    "deletable": true,
    "editable": true
   },
   "outputs": [],
   "source": [
    "# naively impute missing values by replacing them with 2 (major allele)\n",
    "# in real life, please use IMPUTE2\n",
    "ped[ped==0]=2"
   ]
  },
  {
   "cell_type": "code",
   "execution_count": 56,
   "metadata": {
    "collapsed": false,
    "deletable": true,
    "editable": true
   },
   "outputs": [
    {
     "name": "stdout",
     "output_type": "stream",
     "text": [
      "(89, 6)\n"
     ]
    }
   ],
   "source": [
    "ped_start = np.loadtxt(\"data/hapmap1.ped\", usecols=xrange(0, 6), dtype=str)\n",
    "print ped_start.shape"
   ]
  },
  {
   "cell_type": "code",
   "execution_count": 57,
   "metadata": {
    "collapsed": false,
    "deletable": true,
    "editable": true,
    "scrolled": true
   },
   "outputs": [
    {
     "name": "stdout",
     "output_type": "stream",
     "text": [
      "(89, 167068)\n",
      "(89, 167074)\n",
      "[['HCB181' '1' '0' '0' '1' '1' '2' '2' '2' '2']\n",
      " ['HCB182' '1' '0' '0' '1' '1' '2' '2' '1' '2']]\n"
     ]
    }
   ],
   "source": [
    "print ped.shape\n",
    "ped_full = np.hstack((ped_start, ped))\n",
    "print ped_full.shape\n",
    "print ped_full[:2, :10]"
   ]
  },
  {
   "cell_type": "code",
   "execution_count": 58,
   "metadata": {
    "collapsed": false,
    "deletable": true,
    "editable": true
   },
   "outputs": [],
   "source": [
    "# Reexport data with naive imputation\n",
    "np.savetxt(\"data/hapmap1mod.ped\", ped_full, fmt='%s')"
   ]
  },
  {
   "cell_type": "markdown",
   "metadata": {
    "deletable": true,
    "editable": true
   },
   "source": [
    "## Causal SNPs"
   ]
  },
  {
   "cell_type": "code",
   "execution_count": 59,
   "metadata": {
    "collapsed": false,
    "deletable": true,
    "editable": true
   },
   "outputs": [
    {
     "name": "stdout",
     "output_type": "stream",
     "text": [
      "[860, 6265, 15795, 54886, 76820, 82386]\n"
     ]
    }
   ],
   "source": [
    "# randomly pick 6 SNPs to be causal\n",
    "np.random.seed(42)\n",
    "causal_SNPs = list(np.random.randint(0, high=83534, size=6))\n",
    "causal_SNPs.sort()\n",
    "print causal_SNPs"
   ]
  },
  {
   "cell_type": "code",
   "execution_count": 60,
   "metadata": {
    "collapsed": false,
    "deletable": true,
    "editable": true
   },
   "outputs": [
    {
     "name": "stdout",
     "output_type": "stream",
     "text": [
      "['0.252', '-0.213', '0.273', '0.249', '-0.220']\n"
     ]
    }
   ],
   "source": [
    "# randomly pick 5 causal weights (SNP4 and SNP5 will be in epistasis)\n",
    "np.random.seed(41)\n",
    "#causal_weights = np.random.uniform(size=9)\n",
    "#causal_weights = np.random.normal(size=5)\n",
    "causal_weights = [0.252, -0.213, 0.273, 0.249, -0.220]\n",
    "print [\"%.3f\" % w for w in causal_weights]"
   ]
  },
  {
   "cell_type": "code",
   "execution_count": 61,
   "metadata": {
    "collapsed": false,
    "deletable": true,
    "editable": true
   },
   "outputs": [
    {
     "name": "stdout",
     "output_type": "stream",
     "text": [
      "(89, 167068)\n",
      "(89, 6)\n"
     ]
    }
   ],
   "source": [
    "# transform ped into only causal features\n",
    "print ped.shape\n",
    "causal_X = np.array([4-(ped[:, idx*2]+ped[:, idx*2+1]) for idx in causal_SNPs]).T\n",
    "print causal_X.shape"
   ]
  },
  {
   "cell_type": "code",
   "execution_count": 62,
   "metadata": {
    "collapsed": false,
    "deletable": true,
    "editable": true
   },
   "outputs": [],
   "source": [
    "causal_X[:, 4] = causal_X[:, 4]*causal_X[:, 5]"
   ]
  },
  {
   "cell_type": "code",
   "execution_count": 63,
   "metadata": {
    "collapsed": false,
    "deletable": true,
    "editable": true
   },
   "outputs": [
    {
     "name": "stdout",
     "output_type": "stream",
     "text": [
      "(89, 5)\n"
     ]
    }
   ],
   "source": [
    "causal_X = np.delete(causal_X, 5, 1)\n",
    "print causal_X.shape"
   ]
  },
  {
   "cell_type": "markdown",
   "metadata": {
    "deletable": true,
    "editable": true
   },
   "source": [
    "## Names of causal SNPs"
   ]
  },
  {
   "cell_type": "code",
   "execution_count": 64,
   "metadata": {
    "collapsed": true,
    "deletable": true,
    "editable": true
   },
   "outputs": [],
   "source": [
    "import pandas as pd"
   ]
  },
  {
   "cell_type": "code",
   "execution_count": 65,
   "metadata": {
    "collapsed": true,
    "deletable": true,
    "editable": true
   },
   "outputs": [],
   "source": [
    "df = pd.read_csv('data/hapmap1.map', delim_whitespace=True, header=None)"
   ]
  },
  {
   "cell_type": "code",
   "execution_count": 66,
   "metadata": {
    "collapsed": false,
    "deletable": true,
    "editable": true
   },
   "outputs": [
    {
     "data": {
      "text/html": [
       "<div>\n",
       "<table border=\"1\" class=\"dataframe\">\n",
       "  <thead>\n",
       "    <tr style=\"text-align: right;\">\n",
       "      <th></th>\n",
       "      <th>0</th>\n",
       "      <th>1</th>\n",
       "      <th>2</th>\n",
       "      <th>3</th>\n",
       "    </tr>\n",
       "  </thead>\n",
       "  <tbody>\n",
       "    <tr>\n",
       "      <th>860</th>\n",
       "      <td>1</td>\n",
       "      <td>rs12045968</td>\n",
       "      <td>0</td>\n",
       "      <td>861</td>\n",
       "    </tr>\n",
       "    <tr>\n",
       "      <th>6265</th>\n",
       "      <td>1</td>\n",
       "      <td>rs967216</td>\n",
       "      <td>0</td>\n",
       "      <td>6266</td>\n",
       "    </tr>\n",
       "    <tr>\n",
       "      <th>15795</th>\n",
       "      <td>3</td>\n",
       "      <td>rs920160</td>\n",
       "      <td>0</td>\n",
       "      <td>15796</td>\n",
       "    </tr>\n",
       "    <tr>\n",
       "      <th>54886</th>\n",
       "      <td>11</td>\n",
       "      <td>rs1015896</td>\n",
       "      <td>0</td>\n",
       "      <td>54887</td>\n",
       "    </tr>\n",
       "    <tr>\n",
       "      <th>76820</th>\n",
       "      <td>18</td>\n",
       "      <td>rs1942455</td>\n",
       "      <td>0</td>\n",
       "      <td>76821</td>\n",
       "    </tr>\n",
       "    <tr>\n",
       "      <th>82386</th>\n",
       "      <td>22</td>\n",
       "      <td>rs1115764</td>\n",
       "      <td>0</td>\n",
       "      <td>82387</td>\n",
       "    </tr>\n",
       "  </tbody>\n",
       "</table>\n",
       "</div>"
      ],
      "text/plain": [
       "        0           1  2      3\n",
       "860     1  rs12045968  0    861\n",
       "6265    1    rs967216  0   6266\n",
       "15795   3    rs920160  0  15796\n",
       "54886  11   rs1015896  0  54887\n",
       "76820  18   rs1942455  0  76821\n",
       "82386  22   rs1115764  0  82387"
      ]
     },
     "execution_count": 66,
     "metadata": {},
     "output_type": "execute_result"
    }
   ],
   "source": [
    "df.iloc[causal_SNPs]"
   ]
  },
  {
   "cell_type": "code",
   "execution_count": 67,
   "metadata": {
    "collapsed": false,
    "deletable": true,
    "editable": true
   },
   "outputs": [
    {
     "name": "stdout",
     "output_type": "stream",
     "text": [
      "['rs12045968' 'rs967216' 'rs920160' 'rs1015896' 'rs1942455' 'rs1115764']\n"
     ]
    }
   ],
   "source": [
    "causal_SNPs_names = df.iloc[causal_SNPs][1].values\n",
    "print causal_SNPs_names"
   ]
  },
  {
   "cell_type": "code",
   "execution_count": 2,
   "metadata": {
    "collapsed": true,
    "deletable": true,
    "editable": true
   },
   "outputs": [],
   "source": [
    "causal_SNPs_names = ['rs12045968', 'rs967216', 'rs920160', 'rs1015896', 'rs1942455', 'rs1115764']"
   ]
  },
  {
   "cell_type": "markdown",
   "metadata": {
    "deletable": true,
    "editable": true
   },
   "source": [
    "## Generating case/control phenotype"
   ]
  },
  {
   "cell_type": "code",
   "execution_count": null,
   "metadata": {
    "collapsed": false,
    "deletable": true,
    "editable": true
   },
   "outputs": [],
   "source": [
    "y = np.dot((-2*causal_X+3), causal_weights)+0.5\n",
    "print y.shape"
   ]
  },
  {
   "cell_type": "code",
   "execution_count": null,
   "metadata": {
    "collapsed": false,
    "deletable": true,
    "editable": true
   },
   "outputs": [],
   "source": [
    "print y"
   ]
  },
  {
   "cell_type": "code",
   "execution_count": null,
   "metadata": {
    "collapsed": false,
    "deletable": true,
    "editable": true
   },
   "outputs": [],
   "source": [
    "p = np.exp((y))/(np.exp((y))+1)\n",
    "hist(p)"
   ]
  },
  {
   "cell_type": "code",
   "execution_count": null,
   "metadata": {
    "collapsed": true,
    "deletable": true,
    "editable": true
   },
   "outputs": [],
   "source": [
    "phe = p>0.5"
   ]
  },
  {
   "cell_type": "code",
   "execution_count": null,
   "metadata": {
    "collapsed": false,
    "deletable": true,
    "editable": true
   },
   "outputs": [],
   "source": [
    "phe = np.array(phe, dtype=int)\n",
    "print np.sum(phe), 89-np.sum(phe)"
   ]
  },
  {
   "cell_type": "markdown",
   "metadata": {
    "deletable": true,
    "editable": true
   },
   "source": [
    "## Generating quantitative phenotype"
   ]
  },
  {
   "cell_type": "code",
   "execution_count": null,
   "metadata": {
    "collapsed": true,
    "deletable": true,
    "editable": true
   },
   "outputs": [],
   "source": [
    "phe = np.dot(causal_X, causal_weights)+0.1*np.random.random(size=causal_X.shape[0])"
   ]
  },
  {
   "cell_type": "code",
   "execution_count": null,
   "metadata": {
    "collapsed": false,
    "deletable": true,
    "editable": true
   },
   "outputs": [],
   "source": [
    "print phe.shape\n",
    "y_true = np.dot(causal_X, causal_weights)"
   ]
  },
  {
   "cell_type": "code",
   "execution_count": null,
   "metadata": {
    "collapsed": false,
    "deletable": true,
    "editable": true
   },
   "outputs": [],
   "source": [
    "plt.scatter(y_true, phe)"
   ]
  },
  {
   "cell_type": "markdown",
   "metadata": {
    "deletable": true,
    "editable": true
   },
   "source": [
    "## Code new phenotype file"
   ]
  },
  {
   "cell_type": "code",
   "execution_count": null,
   "metadata": {
    "collapsed": false,
    "deletable": true,
    "editable": true
   },
   "outputs": [],
   "source": [
    "# Read sample names\n",
    "sample_names = np.loadtxt('data/qt.phe', usecols=0, dtype='S')"
   ]
  },
  {
   "cell_type": "code",
   "execution_count": null,
   "metadata": {
    "collapsed": true,
    "deletable": true,
    "editable": true
   },
   "outputs": [],
   "source": [
    "# Write phenotype file, using pandas\n",
    "import pandas as pd"
   ]
  },
  {
   "cell_type": "code",
   "execution_count": null,
   "metadata": {
    "collapsed": true,
    "deletable": true,
    "editable": true
   },
   "outputs": [],
   "source": [
    "df = pd.DataFrame(index=range(y.shape[0]), columns=('FID', 'IID', 'PHENOTYPE'))"
   ]
  },
  {
   "cell_type": "code",
   "execution_count": null,
   "metadata": {
    "collapsed": true,
    "deletable": true,
    "editable": true
   },
   "outputs": [],
   "source": [
    "df.FID=sample_names"
   ]
  },
  {
   "cell_type": "code",
   "execution_count": null,
   "metadata": {
    "collapsed": true,
    "deletable": true,
    "editable": true
   },
   "outputs": [],
   "source": [
    "df.IID = np.array(np.ones(89, ), dtype='int')"
   ]
  },
  {
   "cell_type": "code",
   "execution_count": null,
   "metadata": {
    "collapsed": true,
    "deletable": true,
    "editable": true
   },
   "outputs": [],
   "source": [
    "df.PHENOTYPE = phe"
   ]
  },
  {
   "cell_type": "code",
   "execution_count": null,
   "metadata": {
    "collapsed": false,
    "deletable": true,
    "editable": true
   },
   "outputs": [],
   "source": [
    "df.to_csv('data/phenotype.phe', header=False, index=False, sep=\" \")"
   ]
  },
  {
   "cell_type": "markdown",
   "metadata": {
    "deletable": true,
    "editable": true
   },
   "source": [
    "Recode the phenotype in the .ped file\n",
    "``` \n",
    "plink --map hapmap1.map --ped hapmap1mod.ped --pheno phenotype.phe --recode --noweb --out simulated\n",
    "```"
   ]
  },
  {
   "cell_type": "markdown",
   "metadata": {
    "deletable": true,
    "editable": true
   },
   "source": [
    "## PLINK"
   ]
  },
  {
   "cell_type": "markdown",
   "metadata": {
    "collapsed": true,
    "deletable": true,
    "editable": true
   },
   "source": [
    "```\n",
    "plink --noweb --file simulated --maf 0.01 --hwe 1e-6 --geno 0.1 --make-bed --out mydata\n",
    "\n",
    "plink --noweb --bfile mydata\n",
    "\n",
    "plink --noweb --bfile mydata --assoc --out assoc1\n",
    "\n",
    "sort --key=8 -r --general-numeric-sort assoc1.assoc | head -20 # case/control\n",
    "sort --key=8 -r --general-numeric-sort assoc1.qassoc | head -20 # quantitative\n",
    "\n",
    "```"
   ]
  },
  {
   "cell_type": "markdown",
   "metadata": {
    "collapsed": true,
    "deletable": true,
    "editable": true
   },
   "source": [
    "# Manipulate PLINK output"
   ]
  },
  {
   "cell_type": "code",
   "execution_count": 5,
   "metadata": {
    "collapsed": true,
    "deletable": true,
    "editable": true
   },
   "outputs": [],
   "source": [
    "import pandas as pd"
   ]
  },
  {
   "cell_type": "code",
   "execution_count": 6,
   "metadata": {
    "collapsed": false,
    "deletable": true,
    "editable": true
   },
   "outputs": [],
   "source": [
    "df = pd.read_csv('data/assoc1.qassoc', # File name\n",
    "                 delim_whitespace=True) # Use any white space as delimiter"
   ]
  },
  {
   "cell_type": "code",
   "execution_count": 7,
   "metadata": {
    "collapsed": false,
    "deletable": true,
    "editable": true
   },
   "outputs": [
    {
     "name": "stdout",
     "output_type": "stream",
     "text": [
      "       CHR         SNP     BP  NMISS    BETA       SE      R2      T  \\\n",
      "43968   11   rs1015896  54887     89 -0.2669  0.03154  0.4516 -8.464   \n",
      "12345    3    rs920160  15796     89  0.2401  0.03937  0.2995  6.099   \n",
      "43970   11    rs524657  54889     89 -0.2093  0.04063  0.2336 -5.150   \n",
      "683      1  rs12045968    861     89  0.2169  0.04525  0.2090  4.794   \n",
      "13279    3   rs1403436  16984     89 -0.1889  0.04314  0.1806 -4.379   \n",
      "19467    4   rs4279260  24660     89  0.1735  0.04041  0.1749  4.294   \n",
      "13278    3   rs2470764  16983     89 -0.2028  0.04758  0.1728 -4.264   \n",
      "13277    3   rs1905017  16982     89 -0.2028  0.04758  0.1728 -4.264   \n",
      "49603   13   rs1467601  61964     89  0.1739  0.04118  0.1701  4.223   \n",
      "43973   11   rs2283233  54892     89 -0.1554  0.03732  0.1662 -4.164   \n",
      "\n",
      "                  P  \n",
      "43968  5.608000e-13  \n",
      "12345  2.870000e-08  \n",
      "43970  1.602000e-06  \n",
      "683    6.696000e-06  \n",
      "13279  3.308000e-05  \n",
      "19467  4.548000e-05  \n",
      "13278  5.089000e-05  \n",
      "13277  5.089000e-05  \n",
      "49603  5.907000e-05  \n",
      "43973  7.333000e-05  \n"
     ]
    }
   ],
   "source": [
    "# sort df by p-value\n",
    "df_sorted = df.sort_values('P')\n",
    "print df_sorted[:10]"
   ]
  },
  {
   "cell_type": "markdown",
   "metadata": {
    "deletable": true,
    "editable": true
   },
   "source": [
    "## Scores for causal SNPs"
   ]
  },
  {
   "cell_type": "code",
   "execution_count": 8,
   "metadata": {
    "collapsed": false,
    "deletable": true,
    "editable": true
   },
   "outputs": [
    {
     "data": {
      "text/html": [
       "<div>\n",
       "<table border=\"1\" class=\"dataframe\">\n",
       "  <thead>\n",
       "    <tr style=\"text-align: right;\">\n",
       "      <th></th>\n",
       "      <th>CHR</th>\n",
       "      <th>SNP</th>\n",
       "      <th>BP</th>\n",
       "      <th>NMISS</th>\n",
       "      <th>BETA</th>\n",
       "      <th>SE</th>\n",
       "      <th>R2</th>\n",
       "      <th>T</th>\n",
       "      <th>P</th>\n",
       "    </tr>\n",
       "  </thead>\n",
       "  <tbody>\n",
       "    <tr>\n",
       "      <th>683</th>\n",
       "      <td>1</td>\n",
       "      <td>rs12045968</td>\n",
       "      <td>861</td>\n",
       "      <td>89</td>\n",
       "      <td>0.216900</td>\n",
       "      <td>0.04525</td>\n",
       "      <td>2.090000e-01</td>\n",
       "      <td>4.794000</td>\n",
       "      <td>6.696000e-06</td>\n",
       "    </tr>\n",
       "    <tr>\n",
       "      <th>4891</th>\n",
       "      <td>1</td>\n",
       "      <td>rs967216</td>\n",
       "      <td>6266</td>\n",
       "      <td>89</td>\n",
       "      <td>-0.145700</td>\n",
       "      <td>0.21170</td>\n",
       "      <td>5.418000e-03</td>\n",
       "      <td>-0.688500</td>\n",
       "      <td>4.930000e-01</td>\n",
       "    </tr>\n",
       "    <tr>\n",
       "      <th>12345</th>\n",
       "      <td>3</td>\n",
       "      <td>rs920160</td>\n",
       "      <td>15796</td>\n",
       "      <td>89</td>\n",
       "      <td>0.240100</td>\n",
       "      <td>0.03937</td>\n",
       "      <td>2.995000e-01</td>\n",
       "      <td>6.099000</td>\n",
       "      <td>2.870000e-08</td>\n",
       "    </tr>\n",
       "    <tr>\n",
       "      <th>43968</th>\n",
       "      <td>11</td>\n",
       "      <td>rs1015896</td>\n",
       "      <td>54887</td>\n",
       "      <td>89</td>\n",
       "      <td>-0.266900</td>\n",
       "      <td>0.03154</td>\n",
       "      <td>4.516000e-01</td>\n",
       "      <td>-8.464000</td>\n",
       "      <td>5.608000e-13</td>\n",
       "    </tr>\n",
       "    <tr>\n",
       "      <th>61140</th>\n",
       "      <td>18</td>\n",
       "      <td>rs1942455</td>\n",
       "      <td>76821</td>\n",
       "      <td>89</td>\n",
       "      <td>0.019130</td>\n",
       "      <td>0.11000</td>\n",
       "      <td>3.479000e-04</td>\n",
       "      <td>0.174000</td>\n",
       "      <td>8.623000e-01</td>\n",
       "    </tr>\n",
       "    <tr>\n",
       "      <th>65596</th>\n",
       "      <td>22</td>\n",
       "      <td>rs1115764</td>\n",
       "      <td>82387</td>\n",
       "      <td>89</td>\n",
       "      <td>-0.000265</td>\n",
       "      <td>0.11690</td>\n",
       "      <td>5.931000e-08</td>\n",
       "      <td>-0.002272</td>\n",
       "      <td>9.982000e-01</td>\n",
       "    </tr>\n",
       "  </tbody>\n",
       "</table>\n",
       "</div>"
      ],
      "text/plain": [
       "       CHR         SNP     BP  NMISS      BETA       SE            R2  \\\n",
       "683      1  rs12045968    861     89  0.216900  0.04525  2.090000e-01   \n",
       "4891     1    rs967216   6266     89 -0.145700  0.21170  5.418000e-03   \n",
       "12345    3    rs920160  15796     89  0.240100  0.03937  2.995000e-01   \n",
       "43968   11   rs1015896  54887     89 -0.266900  0.03154  4.516000e-01   \n",
       "61140   18   rs1942455  76821     89  0.019130  0.11000  3.479000e-04   \n",
       "65596   22   rs1115764  82387     89 -0.000265  0.11690  5.931000e-08   \n",
       "\n",
       "              T             P  \n",
       "683    4.794000  6.696000e-06  \n",
       "4891  -0.688500  4.930000e-01  \n",
       "12345  6.099000  2.870000e-08  \n",
       "43968 -8.464000  5.608000e-13  \n",
       "61140  0.174000  8.623000e-01  \n",
       "65596 -0.002272  9.982000e-01  "
      ]
     },
     "execution_count": 8,
     "metadata": {},
     "output_type": "execute_result"
    }
   ],
   "source": [
    "df.loc[df['SNP'].isin(causal_SNPs_names)]"
   ]
  },
  {
   "cell_type": "markdown",
   "metadata": {
    "deletable": true,
    "editable": true
   },
   "source": [
    "## Manhattan plot"
   ]
  },
  {
   "cell_type": "code",
   "execution_count": 9,
   "metadata": {
    "collapsed": false,
    "deletable": true,
    "editable": true
   },
   "outputs": [
    {
     "data": {
      "text/plain": [
       "(0, 83534)"
      ]
     },
     "execution_count": 9,
     "metadata": {},
     "output_type": "execute_result"
    },
    {
     "data": {
      "image/png": "[encoded data removed]",
      "text/plain": [
       "<matplotlib.figure.Figure at 0x7f1f4ebc8410>"
      ]
     },
     "metadata": {},
     "output_type": "display_data"
    }
   ],
   "source": [
    "fig = plt.figure(figsize(6, 4))\n",
    "\n",
    "plt.scatter(df.BP, # x = SNP position\n",
    "            -np.log10(df.P), # y = -log10 p-value (the higher the more significant)\n",
    "            c=df.CHR) # color by chromosome\n",
    "\n",
    "# Plot the causal SNPs in red\n",
    "plt.scatter(df.BP[df['SNP'].isin(causal_SNPs_names)], \n",
    "            -np.log10(df.P[df['SNP'].isin(causal_SNPs_names)]),\n",
    "                     color='red')\n",
    "\n",
    "# significance threshold according to Bonferroni correction\n",
    "t = -np.log10(0.05/df.shape[0])\n",
    "plt.plot([0, max(df.BP)], [t, t], lw=2)\n",
    "\n",
    "plt.xlabel(\"SNP\", fontsize=14)\n",
    "plt.ylabel(\"-log10 p-value\", fontsize=14)\n",
    "plt.xlim([0, max(df.BP)])\n",
    "\n",
    "#plt.savefig('manhattan.png', bbox_inches='tight')\n"
   ]
  },
  {
   "cell_type": "markdown",
   "metadata": {
    "deletable": true,
    "editable": true
   },
   "source": [
    "Note how the SNP just below significance (between 50 000 and 60 000) is not actually causal in the simulation."
   ]
  },
  {
   "cell_type": "code",
   "execution_count": 10,
   "metadata": {
    "collapsed": false,
    "deletable": true,
    "editable": true
   },
   "outputs": [
    {
     "name": "stdout",
     "output_type": "stream",
     "text": [
      "12345     rs920160\n",
      "43968    rs1015896\n",
      "Name: SNP, dtype: object\n"
     ]
    }
   ],
   "source": [
    "# names of significant SNPs\n",
    "sig_SNPs = df.SNP[df.P < 0.05/df.shape[0]]\n",
    "print sig_SNPs"
   ]
  },
  {
   "cell_type": "markdown",
   "metadata": {
    "deletable": true,
    "editable": true
   },
   "source": [
    "## Q-Q plot"
   ]
  },
  {
   "cell_type": "code",
   "execution_count": 11,
   "metadata": {
    "collapsed": true,
    "deletable": true,
    "editable": true
   },
   "outputs": [],
   "source": [
    "import scipy.stats as ss"
   ]
  },
  {
   "cell_type": "code",
   "execution_count": 12,
   "metadata": {
    "collapsed": false,
    "deletable": true,
    "editable": true
   },
   "outputs": [
    {
     "data": {
      "image/png": "[encoded data removed]",
      "text/plain": [
       "<matplotlib.figure.Figure at 0x7f1f44cdb0d0>"
      ]
     },
     "metadata": {},
     "output_type": "display_data"
    }
   ],
   "source": [
    "ss.probplot(df.P, dist=\"uniform\", plot=pylab)\n",
    "plt.show()"
   ]
  },
  {
   "cell_type": "markdown",
   "metadata": {
    "deletable": true,
    "editable": true
   },
   "source": [
    "# ML approaches\n",
    "## Load data for ML"
   ]
  },
  {
   "cell_type": "markdown",
   "metadata": {
    "deletable": true,
    "editable": true
   },
   "source": [
    "```\n",
    "plink --noweb --bfile mydata --recodeA --out mydata1\n",
    "```"
   ]
  },
  {
   "cell_type": "code",
   "execution_count": 13,
   "metadata": {
    "collapsed": false,
    "deletable": true,
    "editable": true
   },
   "outputs": [],
   "source": [
    "df = pd.read_csv('data/mydata1.raw', delim_whitespace=True)"
   ]
  },
  {
   "cell_type": "code",
   "execution_count": 14,
   "metadata": {
    "collapsed": false,
    "deletable": true,
    "editable": true
   },
   "outputs": [],
   "source": [
    "y = df.PHENOTYPE.values"
   ]
  },
  {
   "cell_type": "code",
   "execution_count": 15,
   "metadata": {
    "collapsed": false,
    "deletable": true,
    "editable": true
   },
   "outputs": [],
   "source": [
    "X = df.iloc[:, 6:].values"
   ]
  },
  {
   "cell_type": "code",
   "execution_count": 16,
   "metadata": {
    "collapsed": false,
    "deletable": true,
    "editable": true
   },
   "outputs": [
    {
     "data": {
      "text/plain": [
       "(89, 66536)"
      ]
     },
     "execution_count": 16,
     "metadata": {},
     "output_type": "execute_result"
    }
   ],
   "source": [
    "X.shape"
   ]
  },
  {
   "cell_type": "code",
   "execution_count": 17,
   "metadata": {
    "collapsed": false,
    "deletable": true,
    "editable": true
   },
   "outputs": [
    {
     "data": {
      "text/plain": [
       "(89,)"
      ]
     },
     "execution_count": 17,
     "metadata": {},
     "output_type": "execute_result"
    }
   ],
   "source": [
    "y.shape"
   ]
  },
  {
   "cell_type": "code",
   "execution_count": 18,
   "metadata": {
    "collapsed": false,
    "deletable": true,
    "editable": true
   },
   "outputs": [],
   "source": [
    "# Rename SNP columns to get rid of the last two characters\n",
    "new_col_names = list(df.columns[:6])\n",
    "new_col_names.extend([col_name[:-2] for col_name in df.columns[6:]])\n",
    "df.columns = new_col_names"
   ]
  },
  {
   "cell_type": "code",
   "execution_count": 19,
   "metadata": {
    "collapsed": false,
    "deletable": true,
    "editable": true
   },
   "outputs": [
    {
     "name": "stdout",
     "output_type": "stream",
     "text": [
      "Index([u'FID', u'IID', u'PAT', u'MAT', u'SEX', u'PHENOTYPE', u'rs6681049',\n",
      "       u'rs4074137', u'rs1891905', u'rs9729550',\n",
      "       ...\n",
      "       u'rs7410608', u'rs4824149', u'rs4824157', u'rs131817', u'rs131794',\n",
      "       u'rs5770913', u'rs131750', u'rs2269380', u'rs1001469', u'rs756638'],\n",
      "      dtype='object', length=66542)\n"
     ]
    }
   ],
   "source": [
    "print df.columns"
   ]
  },
  {
   "cell_type": "markdown",
   "metadata": {
    "deletable": true,
    "editable": true
   },
   "source": [
    "## Percentage of variance explained by the most significant SNP"
   ]
  },
  {
   "cell_type": "code",
   "execution_count": 20,
   "metadata": {
    "collapsed": false,
    "deletable": true,
    "editable": true
   },
   "outputs": [],
   "source": [
    "from sklearn import linear_model, metrics"
   ]
  },
  {
   "cell_type": "code",
   "execution_count": 21,
   "metadata": {
    "collapsed": false,
    "deletable": true,
    "editable": true
   },
   "outputs": [
    {
     "name": "stdout",
     "output_type": "stream",
     "text": [
      "(89, 1)\n",
      "0.451592085058\n",
      "0.451592085058\n"
     ]
    }
   ],
   "source": [
    "# Restrict X to the one column corresponding to the most significant SNP.\n",
    "# Need to remove 6 when taking the indices because the first 6 columns are not in X.\n",
    "\n",
    "X_r = X[:, (df.columns.get_loc('rs1015896')-6)]\n",
    "# reshape X_r as a 2D (column) array\n",
    "X_r = np.atleast_2d(X_r).T\n",
    "print X_r.shape\n",
    "\n",
    "m = linear_model.LinearRegression(fit_intercept=True)\n",
    "m.fit(X_r, y)\n",
    "y_pred = m.predict(X_r)\n",
    "print metrics.r2_score(y, y_pred)\n",
    "print metrics.explained_variance_score(y, y_pred)"
   ]
  },
  {
   "cell_type": "markdown",
   "metadata": {
    "deletable": true,
    "editable": true
   },
   "source": [
    "Note this matches the PLINK output (R2 column)."
   ]
  },
  {
   "cell_type": "markdown",
   "metadata": {
    "deletable": true,
    "editable": true
   },
   "source": [
    "## Percentage of variance explained by the two significant SNPs"
   ]
  },
  {
   "cell_type": "code",
   "execution_count": 23,
   "metadata": {
    "collapsed": false,
    "deletable": true,
    "editable": true
   },
   "outputs": [
    {
     "name": "stdout",
     "output_type": "stream",
     "text": [
      "(89, 2)\n"
     ]
    }
   ],
   "source": [
    "# Restrict X to the two columns corresponding to the two significant SNPs.\n",
    "# Need to remove 6 when taking the indices because the first 6 columns are not in X.\n",
    "sig_indices = [(df.columns.get_loc(snp)-6) for snp in sig_SNPs]\n",
    "X_sig = X[:, sig_indices]\n",
    "print X_sig.shape"
   ]
  },
  {
   "cell_type": "code",
   "execution_count": 24,
   "metadata": {
    "collapsed": true,
    "deletable": true,
    "editable": true
   },
   "outputs": [],
   "source": [
    "# Create a linear model that uses the two significant SNPs and no intercept\n",
    "model = linear_model.LinearRegression(fit_intercept=True)"
   ]
  },
  {
   "cell_type": "code",
   "execution_count": 25,
   "metadata": {
    "collapsed": false,
    "deletable": true,
    "editable": true
   },
   "outputs": [
    {
     "data": {
      "text/plain": [
       "LinearRegression(copy_X=True, fit_intercept=True, n_jobs=1, normalize=False)"
      ]
     },
     "execution_count": 25,
     "metadata": {},
     "output_type": "execute_result"
    }
   ],
   "source": [
    "# Fit model to data\n",
    "model.fit(X_sig, y)"
   ]
  },
  {
   "cell_type": "code",
   "execution_count": 26,
   "metadata": {
    "collapsed": true,
    "deletable": true,
    "editable": true
   },
   "outputs": [],
   "source": [
    "# Make predictions with model\n",
    "y_pred = model.predict(X_sig)"
   ]
  },
  {
   "cell_type": "code",
   "execution_count": 27,
   "metadata": {
    "collapsed": false,
    "deletable": true,
    "editable": true
   },
   "outputs": [
    {
     "data": {
      "text/plain": [
       "<matplotlib.collections.PathCollection at 0x7f1f44154e90>"
      ]
     },
     "execution_count": 27,
     "metadata": {},
     "output_type": "execute_result"
    },
    {
     "data": {
      "image/png": "[encoded data removed]",
      "text/plain": [
       "<matplotlib.figure.Figure at 0x7f1f4449d210>"
      ]
     },
     "metadata": {},
     "output_type": "display_data"
    }
   ],
   "source": [
    "# Visualize predictions against true values\n",
    "plt.scatter(y, y_pred)"
   ]
  },
  {
   "cell_type": "code",
   "execution_count": 28,
   "metadata": {
    "collapsed": false,
    "deletable": true,
    "editable": true
   },
   "outputs": [
    {
     "name": "stdout",
     "output_type": "stream",
     "text": [
      "0.566287883435\n"
     ]
    }
   ],
   "source": [
    "# Percentage of variance explained\n",
    "print metrics.explained_variance_score(y, y_pred)"
   ]
  },
  {
   "cell_type": "code",
   "execution_count": 29,
   "metadata": {
    "collapsed": false,
    "deletable": true,
    "editable": true
   },
   "outputs": [
    {
     "name": "stdout",
     "output_type": "stream",
     "text": [
      "0.697490094731\n"
     ]
    }
   ],
   "source": [
    "print metrics.r2_score(y, y_pred)"
   ]
  },
  {
   "cell_type": "markdown",
   "metadata": {
    "deletable": true,
    "editable": true
   },
   "source": [
    "## Lasso (no cross-validation)"
   ]
  },
  {
   "cell_type": "code",
   "execution_count": 30,
   "metadata": {
    "collapsed": true,
    "deletable": true,
    "editable": true
   },
   "outputs": [],
   "source": [
    "from sklearn import linear_model"
   ]
  },
  {
   "cell_type": "code",
   "execution_count": 31,
   "metadata": {
    "collapsed": true,
    "deletable": true,
    "editable": true
   },
   "outputs": [],
   "source": [
    "lasso = linear_model.Lasso(alpha=0.02)"
   ]
  },
  {
   "cell_type": "code",
   "execution_count": 32,
   "metadata": {
    "collapsed": false,
    "deletable": true,
    "editable": true,
    "scrolled": true
   },
   "outputs": [
    {
     "data": {
      "text/plain": [
       "Lasso(alpha=0.02, copy_X=True, fit_intercept=True, max_iter=1000,\n",
       "   normalize=False, positive=False, precompute=False, random_state=None,\n",
       "   selection='cyclic', tol=0.0001, warm_start=False)"
      ]
     },
     "execution_count": 32,
     "metadata": {},
     "output_type": "execute_result"
    }
   ],
   "source": [
    "lasso.fit(X, y)"
   ]
  },
  {
   "cell_type": "code",
   "execution_count": 33,
   "metadata": {
    "collapsed": false,
    "deletable": true,
    "editable": true,
    "scrolled": true
   },
   "outputs": [
    {
     "name": "stdout",
     "output_type": "stream",
     "text": [
      "[  683 12345 19480 37206 43968 48589]\n",
      "6\n"
     ]
    }
   ],
   "source": [
    "print np.where(lasso.coef_)[0]\n",
    "print len(np.where(lasso.coef_)[0])"
   ]
  },
  {
   "cell_type": "code",
   "execution_count": 34,
   "metadata": {
    "collapsed": false,
    "deletable": true,
    "editable": true
   },
   "outputs": [
    {
     "name": "stdout",
     "output_type": "stream",
     "text": [
      "['rs12045968', 'rs967216', 'rs920160', 'rs1015896', 'rs1942455', 'rs1115764']\n",
      "[683, 4891, 12345, 43968, 61140, 65596]\n"
     ]
    }
   ],
   "source": [
    "#causal_SNPs_indices = [df.columns.get_loc('%s_1' % snp) for snp in causal_SNPs_names]\n",
    "print causal_SNPs_names\n",
    "causal_SNPs_indices = []\n",
    "for snp in causal_SNPs_names:\n",
    "    try:\n",
    "        causal_SNPs_indices.append(df.columns.get_loc(snp)-6) \n",
    "        # remove 6 because X starts at the 6th column of the df\n",
    "    except KeyError:\n",
    "        print \"Did not find SNP %s\" % snp\n",
    "        continue\n",
    "print causal_SNPs_indices"
   ]
  },
  {
   "cell_type": "code",
   "execution_count": 35,
   "metadata": {
    "collapsed": false,
    "deletable": true,
    "editable": true
   },
   "outputs": [
    {
     "data": {
      "text/plain": [
       "<matplotlib.collections.PathCollection at 0x7f1f444ab7d0>"
      ]
     },
     "execution_count": 35,
     "metadata": {},
     "output_type": "execute_result"
    },
    {
     "data": {
      "image/png": "[encoded data removed]",
      "text/plain": [
       "<matplotlib.figure.Figure at 0x7f1f44457ed0>"
      ]
     },
     "metadata": {},
     "output_type": "display_data"
    }
   ],
   "source": [
    "plt.scatter(range(lasso.coef_.shape[0]), # x = SNP position\n",
    "            lasso.coef_, # y = SNP weight (the higher the more important)\n",
    "            )\n",
    "\n",
    "# Plot the causal SNPs in red\n",
    "plt.scatter(causal_SNPs_indices, \n",
    "            lasso.coef_[causal_SNPs_indices],\n",
    "                     color='red')"
   ]
  },
  {
   "cell_type": "markdown",
   "metadata": {
    "deletable": true,
    "editable": true
   },
   "source": [
    "### Percentage of variance explained"
   ]
  },
  {
   "cell_type": "code",
   "execution_count": 36,
   "metadata": {
    "collapsed": true,
    "deletable": true,
    "editable": true
   },
   "outputs": [],
   "source": [
    "selected_snps = np.where(lasso.coef_)[0]\n",
    "model = linear_model.LinearRegression(fit_intercept=False)\n",
    "model.fit(X[:, selected_snps], y)\n",
    "y_pred = model.predict(X[:, selected_snps])"
   ]
  },
  {
   "cell_type": "code",
   "execution_count": 37,
   "metadata": {
    "collapsed": true,
    "deletable": true,
    "editable": true
   },
   "outputs": [],
   "source": [
    "# Make predictions with model\n",
    "y_pred = lasso.predict(X)"
   ]
  },
  {
   "cell_type": "code",
   "execution_count": 38,
   "metadata": {
    "collapsed": false,
    "deletable": true,
    "editable": true
   },
   "outputs": [
    {
     "data": {
      "text/plain": [
       "<matplotlib.collections.PathCollection at 0x7f1f3fcd6210>"
      ]
     },
     "execution_count": 38,
     "metadata": {},
     "output_type": "execute_result"
    },
    {
     "data": {
      "image/png": "[encoded data removed]",
      "text/plain": [
       "<matplotlib.figure.Figure at 0x7f1f3fd01ad0>"
      ]
     },
     "metadata": {},
     "output_type": "display_data"
    }
   ],
   "source": [
    "# Visualize predictions against true values\n",
    "plt.scatter(y, y_pred)"
   ]
  },
  {
   "cell_type": "code",
   "execution_count": 39,
   "metadata": {
    "collapsed": false,
    "deletable": true,
    "editable": true,
    "scrolled": true
   },
   "outputs": [
    {
     "name": "stdout",
     "output_type": "stream",
     "text": [
      "0.938896281278\n"
     ]
    }
   ],
   "source": [
    "# Percentage of variance explained\n",
    "print metrics.explained_variance_score(y, y_pred)"
   ]
  },
  {
   "cell_type": "markdown",
   "metadata": {
    "collapsed": true,
    "deletable": true,
    "editable": true
   },
   "source": [
    "## Lasso (cross-validation of the regularization parameter)"
   ]
  },
  {
   "cell_type": "code",
   "execution_count": 40,
   "metadata": {
    "collapsed": false,
    "deletable": true,
    "editable": true
   },
   "outputs": [],
   "source": [
    "lasso_cv = linear_model.LassoCV(cv=5)"
   ]
  },
  {
   "cell_type": "code",
   "execution_count": 41,
   "metadata": {
    "collapsed": false,
    "deletable": true,
    "editable": true
   },
   "outputs": [
    {
     "data": {
      "text/plain": [
       "LassoCV(alphas=None, copy_X=True, cv=5, eps=0.001, fit_intercept=True,\n",
       "    max_iter=1000, n_alphas=100, n_jobs=1, normalize=False, positive=False,\n",
       "    precompute='auto', random_state=None, selection='cyclic', tol=0.0001,\n",
       "    verbose=False)"
      ]
     },
     "execution_count": 41,
     "metadata": {},
     "output_type": "execute_result"
    }
   ],
   "source": [
    "lasso_cv.fit(X, y)"
   ]
  },
  {
   "cell_type": "code",
   "execution_count": 42,
   "metadata": {
    "collapsed": false,
    "deletable": true,
    "editable": true
   },
   "outputs": [
    {
     "name": "stdout",
     "output_type": "stream",
     "text": [
      "[  683  2187  4843  9759 10274 11504 12345 19480 23952 27323 30861 31243\n",
      " 31244 32255 33344 34052 36614 37206 40259 43512 43968 48263 48356 48589\n",
      " 50634 50653 52697 56137 57451 60661 63720 65049]\n",
      "32\n"
     ]
    }
   ],
   "source": [
    "print np.where(lasso_cv.coef_)[0]\n",
    "print len(np.where(lasso_cv.coef_)[0])"
   ]
  },
  {
   "cell_type": "code",
   "execution_count": 43,
   "metadata": {
    "collapsed": false,
    "deletable": true,
    "editable": true
   },
   "outputs": [
    {
     "name": "stdout",
     "output_type": "stream",
     "text": [
      "0.0102747091608\n"
     ]
    }
   ],
   "source": [
    "print lasso_cv.alpha_"
   ]
  },
  {
   "cell_type": "code",
   "execution_count": 45,
   "metadata": {
    "collapsed": false,
    "deletable": true,
    "editable": true
   },
   "outputs": [
    {
     "data": {
      "text/plain": [
       "<matplotlib.collections.PathCollection at 0x7f1f4f0eab50>"
      ]
     },
     "execution_count": 45,
     "metadata": {},
     "output_type": "execute_result"
    },
    {
     "data": {
      "image/png": "[encoded data removed]",
      "text/plain": [
       "<matplotlib.figure.Figure at 0x7f1f4f1c7710>"
      ]
     },
     "metadata": {},
     "output_type": "display_data"
    }
   ],
   "source": [
    "plt.scatter(range(lasso_cv.coef_.shape[0]), # x = SNP position\n",
    "            lasso_cv.coef_, # y = SNP weight (the higher the more important)\n",
    "            )\n",
    "\n",
    "# Plot the causal SNPs in red\n",
    "plt.scatter(causal_SNPs_indices, \n",
    "            lasso_cv.coef_[causal_SNPs_indices],\n",
    "                     color='red')"
   ]
  },
  {
   "cell_type": "code",
   "execution_count": 46,
   "metadata": {
    "collapsed": true,
    "deletable": true,
    "editable": true
   },
   "outputs": [],
   "source": [
    "# Make predictions with model\n",
    "y_pred = lasso_cv.predict(X)"
   ]
  },
  {
   "cell_type": "code",
   "execution_count": 47,
   "metadata": {
    "collapsed": false,
    "deletable": true,
    "editable": true
   },
   "outputs": [
    {
     "data": {
      "text/plain": [
       "<matplotlib.collections.PathCollection at 0x7f1f4f0188d0>"
      ]
     },
     "execution_count": 47,
     "metadata": {},
     "output_type": "execute_result"
    },
    {
     "data": {
      "image/png": "[encoded data removed]",
      "text/plain": [
       "<matplotlib.figure.Figure at 0x7f1f4f102e90>"
      ]
     },
     "metadata": {},
     "output_type": "display_data"
    }
   ],
   "source": [
    "# Visualize predictions against true values\n",
    "plt.scatter(y_pred, y)"
   ]
  },
  {
   "cell_type": "code",
   "execution_count": 48,
   "metadata": {
    "collapsed": false,
    "deletable": true,
    "editable": true,
    "scrolled": true
   },
   "outputs": [
    {
     "name": "stdout",
     "output_type": "stream",
     "text": [
      "0.972092454965\n"
     ]
    }
   ],
   "source": [
    "# Percentage of variance explained\n",
    "print metrics.explained_variance_score(y, y_pred)"
   ]
  },
  {
   "cell_type": "markdown",
   "metadata": {
    "deletable": true,
    "editable": true
   },
   "source": [
    "## Cross-validation and percentage of variance explained on a held-out test set"
   ]
  },
  {
   "cell_type": "code",
   "execution_count": 49,
   "metadata": {
    "collapsed": true,
    "deletable": true,
    "editable": true
   },
   "outputs": [],
   "source": [
    "from sklearn import model_selection\n",
    "X_disc, X_val, y_disc, y_val = model_selection.train_test_split(X, y, test_size=0.33, \n",
    "                                                                    random_state=42)"
   ]
  },
  {
   "cell_type": "code",
   "execution_count": 50,
   "metadata": {
    "collapsed": false,
    "deletable": true,
    "editable": true
   },
   "outputs": [
    {
     "data": {
      "text/plain": [
       "LassoCV(alphas=None, copy_X=True, cv=3, eps=0.001, fit_intercept=True,\n",
       "    max_iter=1000, n_alphas=100, n_jobs=1, normalize=False, positive=False,\n",
       "    precompute='auto', random_state=None, selection='cyclic', tol=0.0001,\n",
       "    verbose=False)"
      ]
     },
     "execution_count": 50,
     "metadata": {},
     "output_type": "execute_result"
    }
   ],
   "source": [
    "lasso_cv = linear_model.LassoCV(cv=3)\n",
    "lasso_cv.fit(X_disc, y_disc)"
   ]
  },
  {
   "cell_type": "code",
   "execution_count": 51,
   "metadata": {
    "collapsed": false,
    "deletable": true,
    "editable": true
   },
   "outputs": [
    {
     "name": "stdout",
     "output_type": "stream",
     "text": [
      "Optimal alpha: 0.0168711026929\n"
     ]
    }
   ],
   "source": [
    "print \"Optimal alpha:\", lasso_cv.alpha_"
   ]
  },
  {
   "cell_type": "code",
   "execution_count": 52,
   "metadata": {
    "collapsed": false,
    "deletable": true,
    "editable": true
   },
   "outputs": [
    {
     "name": "stdout",
     "output_type": "stream",
     "text": [
      "18\n"
     ]
    }
   ],
   "source": [
    "selected_snps = np.where(lasso_cv.coef_)[0]\n",
    "print len(selected_snps)"
   ]
  },
  {
   "cell_type": "code",
   "execution_count": 53,
   "metadata": {
    "collapsed": false,
    "deletable": true,
    "editable": true
   },
   "outputs": [
    {
     "name": "stdout",
     "output_type": "stream",
     "text": [
      "0.994008986493\n"
     ]
    }
   ],
   "source": [
    "# Fit a linear model to the significant SNPs\n",
    "model = linear_model.LinearRegression()\n",
    "model.fit(X_disc[:, selected_snps], y_disc)\n",
    "# Predict on the discovery set\n",
    "y_pred = model.predict(X_disc[:, selected_snps])\n",
    "\n",
    "# Percentage of variance explained\n",
    "print metrics.explained_variance_score(y_pred, y_disc)"
   ]
  },
  {
   "cell_type": "code",
   "execution_count": 54,
   "metadata": {
    "collapsed": false,
    "deletable": true,
    "editable": true
   },
   "outputs": [
    {
     "name": "stdout",
     "output_type": "stream",
     "text": [
      "0.895305685533\n"
     ]
    }
   ],
   "source": [
    "# Use the model to predict on the validation set\n",
    "y_pred = model.predict(X_val[:, selected_snps])\n",
    "\n",
    "# Percentage of variance explained\n",
    "print metrics.explained_variance_score(y_pred, y_val)"
   ]
  }
 ],
 "metadata": {
  "kernelspec": {
   "display_name": "Python 2",
   "language": "python",
   "name": "python2"
  },
  "language_info": {
   "codemirror_mode": {
    "name": "ipython",
    "version": 2
   },
   "file_extension": ".py",
   "mimetype": "text/x-python",
   "name": "python",
   "nbconvert_exporter": "python",
   "pygments_lexer": "ipython2",
   "version": "2.7.12"
  }
 },
 "nbformat": 4,
 "nbformat_minor": 0
}
